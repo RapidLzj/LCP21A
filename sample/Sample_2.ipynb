{
 "cells": [
  {
   "cell_type": "code",
   "execution_count": null,
   "metadata": {},
   "outputs": [],
   "source": [
    "import sys\n",
    "sys.path.append(\"..\")\n",
    "import qlcp21a\n",
    "\n",
    "from astropy.utils import iers\n",
    "iers.conf.auto_download = False"
   ]
  },
  {
   "cell_type": "code",
   "execution_count": null,
   "metadata": {},
   "outputs": [],
   "source": [
    "base_dir = \"/Users/data/\""
   ]
  },
  {
   "cell_type": "code",
   "execution_count": null,
   "metadata": {
    "scrolled": true
   },
   "outputs": [],
   "source": [
    "%%time\n",
    "qlcp21a.do_all(\n",
    "    ini_file=\"xl60.ini\", \n",
    "    raw_dir=base_dir+\"raw/20210407_60/\",\n",
    "    lst_dir=base_dir+\"lst/20210407_60/\", \n",
    "    red_dir=base_dir+\"red/20210407_60/\",\n",
    "    steps=\"lbfipocdg\",\n",
    "    overwrite=True,\n",
    ")"
   ]
  },
  {
   "cell_type": "code",
   "execution_count": null,
   "metadata": {
    "scrolled": true
   },
   "outputs": [],
   "source": [
    "%%time\n",
    "qlcp21a.do_all(\n",
    "    ini_file=\"xl60.ini\", \n",
    "    obj=\"V398UMa\", band=\"BVR\",\n",
    "    raw_dir=base_dir+\"raw/20210407_60/\",\n",
    "    lst_dir=base_dir+\"lst/20210407_60/\", \n",
    "    red_dir=base_dir+\"red/20210407_60/\",\n",
    "    starxy = [\n",
    "        (1071.3, 1019.0),\n",
    "        (1614.4,  851.2),\n",
    "        ( 711.4, 1034.8),\n",
    "        ( 484.2,  189.1),\n",
    "        (1015.0,  190.2),\n",
    "        ( 100.3, 1156.8),\n",
    "        ( 802.8,  640.9),\n",
    "        (  68.9,  784.2),\n",
    "        (1001.0,  870.6),\n",
    "        ( 853.1,  835.4),\n",
    "        ( 216.8,  775.4),\n",
    "        ( 467.7,  209.5),\n",
    "        ( 871.9, 1167.6),\n",
    "        ( 276.7, 1135.8),\n",
    "        (1714.7,  219.2),\n",
    "        ( 153.5,  883.6),\n",
    "        ( 504.8,  277.5),\n",
    "        ( 633.7,  823.9),\n",
    "        (1043.9,  626.4),\n",
    "        ( 664.3, 1164.5),\n",
    "    ],\n",
    "    steps=\"cdg\",  # 这里因为提供了starxy，所以不会自动调用picK过程去猜测\n",
    "    tgt_id=0,\n",
    "    ref_id=[1,2,3,4,5,6,7,8,9,10],  # 上面列举了20颗参考/校验星，但是这里只用到了其中10颗\n",
    "    chk_id=[1,2,3,4,5,6,7,8,9,10],  # 这里并不是严格意义上的校验星，只是把它们都画出来而已\n",
    "    extra_config={\"cali_dis_limit\": 5.0},\n",
    "    overwrite=True\n",
    ")"
   ]
  },
  {
   "cell_type": "code",
   "execution_count": null,
   "metadata": {
    "scrolled": true
   },
   "outputs": [],
   "source": [
    "%%time\n",
    "qlcp21a.do_all(\n",
    "    ini_file=\"xl60.ini\", \n",
    "    obj=\"YZBoo\", band=\"BVR\",\n",
    "    raw_dir=base_dir+\"raw/20210407_60/\",\n",
    "    lst_dir=base_dir+\"lst/20210407_60/\", \n",
    "    red_dir=base_dir+\"red/20210407_60/\",\n",
    "    starxy = [\n",
    "        (1166.2, 1063.5),\n",
    "        ( 236.0, 1311.0),\n",
    "        (1075.3,  930.9),\n",
    "        ( 778.2, 1075.0),\n",
    "        (1825.2, 1796.0),\n",
    "        (1559.8, 1876.4),\n",
    "        (1921.5,  552.2),\n",
    "        (1975.0,  352.7),\n",
    "        (1071.0,  588.3),\n",
    "        ( 413.8, 1449.6),\n",
    "        ( 259.3, 1974.0),\n",
    "    ],\n",
    "    steps=\"cdg\",  # 这里因为提供了starxy，所以不会自动调用picK过程去猜测\n",
    "    tgt_id=0,\n",
    "    ref_id=[1,2,3,4,5,6,7,8,9,10],  # 上面列举了20颗参考/校验星，但是这里只用到了其中10颗\n",
    "    chk_id=[1,2,3,4,5,6,7,8,9,10],  # 这里并不是严格意义上的校验星，只是把它们都画出来而已\n",
    "    extra_config={\"cali_dis_limit\": 5.0},\n",
    "    overwrite=True\n",
    ")"
   ]
  },
  {
   "cell_type": "code",
   "execution_count": null,
   "metadata": {},
   "outputs": [],
   "source": []
  }
 ],
 "metadata": {
  "kernelspec": {
   "display_name": "Python 3",
   "language": "python",
   "name": "python3"
  },
  "language_info": {
   "codemirror_mode": {
    "name": "ipython",
    "version": 3
   },
   "file_extension": ".py",
   "mimetype": "text/x-python",
   "name": "python",
   "nbconvert_exporter": "python",
   "pygments_lexer": "ipython3",
   "version": "3.7.3"
  }
 },
 "nbformat": 4,
 "nbformat_minor": 2
}
